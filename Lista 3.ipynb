{
 "metadata": {
  "language_info": {
   "codemirror_mode": {
    "name": "ipython",
    "version": 3
   },
   "file_extension": ".py",
   "mimetype": "text/x-python",
   "name": "python",
   "nbconvert_exporter": "python",
   "pygments_lexer": "ipython3",
   "version": "3.7.9-final"
  },
  "orig_nbformat": 2,
  "kernelspec": {
   "name": "python_defaultSpec_1598311536825",
   "display_name": "Python 3.7.9 64-bit"
  }
 },
 "nbformat": 4,
 "nbformat_minor": 2,
 "cells": [
  {
   "cell_type": "code",
   "execution_count": null,
   "metadata": {},
   "outputs": [],
   "source": [
    "# Importar biblioteca pyodbc:"
   ]
  },
  {
   "cell_type": "code",
   "execution_count": 19,
   "metadata": {},
   "outputs": [],
   "source": [
    "import pyodbc"
   ]
  },
  {
   "cell_type": "code",
   "execution_count": 20,
   "metadata": {},
   "outputs": [],
   "source": [
    "class ConexaoBD (): \n",
    "  def conexao (self): \n",
    "    return pyodbc.connect (driver = '{SQL Server}', server = 'DESKTOP-JBRAG2G\\SQLEXPRESS01', database = 'empresa', trusted_connection = 'yes') "
   ]
  },
  {
   "cell_type": "code",
   "execution_count": 22,
   "metadata": {},
   "outputs": [],
   "source": [
    "bd = ConexaoBD () \n",
    "c = bd.conexao () "
   ]
  },
  {
   "cell_type": "code",
   "execution_count": 23,
   "metadata": {
    "tags": []
   },
   "outputs": [
    {
     "output_type": "stream",
     "name": "stdout",
     "text": "('DESKTOP-JBRAG2G\\\\SQLEXPRESS01', )\n"
    }
   ],
   "source": [
    "cursor = c.cursor () \n",
    "cursor.execute ('select @@servername') \n",
    " \n",
    "for nome in cursor: \n",
    "  print (nome) "
   ]
  }
 ]
}