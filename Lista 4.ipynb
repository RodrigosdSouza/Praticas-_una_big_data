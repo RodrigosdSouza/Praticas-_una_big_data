{
 "metadata": {
  "language_info": {
   "codemirror_mode": {
    "name": "ipython",
    "version": 3
   },
   "file_extension": ".py",
   "mimetype": "text/x-python",
   "name": "python",
   "nbconvert_exporter": "python",
   "pygments_lexer": "ipython3",
   "version": "3.7.9-final"
  },
  "orig_nbformat": 2,
  "kernelspec": {
   "name": "python_defaultSpec_1598312463389",
   "display_name": "Python 3.7.9 64-bit"
  }
 },
 "nbformat": 4,
 "nbformat_minor": 2,
 "cells": [
  {
   "cell_type": "markdown",
   "metadata": {},
   "source": [
    "# Criar tabela Categoria"
   ]
  },
  {
   "cell_type": "code",
   "execution_count": 79,
   "metadata": {},
   "outputs": [],
   "source": [
    "# Importar biblioteca pyodbc:\n",
    "import pyodbc"
   ]
  },
  {
   "cell_type": "code",
   "execution_count": 84,
   "metadata": {},
   "outputs": [],
   "source": [
    "# Classe para conexão com o banco de dados:\n",
    "class ConexaoBD ():\n",
    " def conectar (self):\n",
    "     return pyodbc.connect (driver = '{SQL Server}', server = 'DESKTOP-JBRAG2G\\SQLEXPRESS01', database = 'empresa', trusted_connection = 'yes')"
   ]
  },
  {
   "cell_type": "code",
   "execution_count": 91,
   "metadata": {},
   "outputs": [],
   "source": [
    "bd = ConexaoBD ()\n",
    "conexao = bd.conectar ()"
   ]
  },
  {
   "cell_type": "code",
   "execution_count": 116,
   "metadata": {
    "tags": []
   },
   "outputs": [
    {
     "output_type": "stream",
     "name": "stdout",
     "text": "(1, 'rodrigo', 'aluno')\n"
    }
   ],
   "source": [
    "class Categoria:\n",
    "    def __init__ (self, conexao):\n",
    "        self.conexao = conexao\n",
    "\n",
    "    def criar (self):\n",
    "        ddl = '''\n",
    "        create table Categoria (\n",
    "            id int primary key identity (1, 1), -- identity (inicio,incremento): especifica o valor inicial de um incremento.\n",
    "            nome varchar (32),\n",
    "            descricao text\n",
    "            );\n",
    "            '''\n",
    "        with self.conexao:\n",
    "             self.conexao.execute (ddl)\n",
    "\n",
    "    def ler (self):\n",
    "        cursor = self.conexao.cursor () \n",
    "        cursor.execute ('select *from Categoria;') \n",
    "        for linha in cursor: \n",
    "            print (linha)\n",
    "                \n",
    "categoria = Categoria (conexao)\n",
    "#categoria.criar ()\n",
    "categoria.ler()"
   ]
  },
  {
   "cell_type": "code",
   "execution_count": 95,
   "metadata": {},
   "outputs": [],
   "source": [
    "class Vendedor:\n",
    "    def __init__ (self, conexao):\n",
    "        self.conexao = conexao\n",
    "\n",
    "    def criar (self):\n",
    "        ddl = '''\n",
    "        create table Vendedor (\n",
    "            cpf varchar (14) primary key,\n",
    "            nome varchar (128),\n",
    "            email varchar (128),\n",
    "            telefone varchar (20),\n",
    "            endereco varchar (256)\n",
    "            );\n",
    "            '''\n",
    "        with self.conexao:\n",
    "             self.conexao.execute (ddl)\n",
    "                \n",
    "vendedor = Vendedor (conexao)\n",
    "vendedor.criar ()"
   ]
  },
  {
   "cell_type": "code",
   "execution_count": 97,
   "metadata": {},
   "outputs": [],
   "source": [
    "class Produto:\n",
    "    def __init__ (self, conexao):\n",
    "        self.conexao = conexao\n",
    "\n",
    "    def criar (self):\n",
    "        ddl = '''\n",
    "        create table Produto (\n",
    "            id int primary key identity (1, 1),\n",
    "            nome varchar (128),\n",
    "            descricao text,\n",
    "            marca varchar (32),\n",
    "            id_categoria int foreign key references Categoria (id)\n",
    "            );\n",
    "            '''\n",
    "        with self.conexao:\n",
    "             self.conexao.execute (ddl)\n",
    "                \n",
    "produto = Produto (conexao)\n",
    "produto.criar ()"
   ]
  },
  {
   "cell_type": "code",
   "execution_count": 99,
   "metadata": {},
   "outputs": [],
   "source": [
    "class VendedorProduto:\n",
    "    def __init__ (self, conexao):\n",
    "        self.conexao = conexao\n",
    "\n",
    "    def criar (self):\n",
    "        ddl = '''\n",
    "        create table VendedorProduto (\n",
    "            id int primary key identity (1, 1),\n",
    "            cpf_vendedor varchar (14) foreign key references Vendedor (cpf),\n",
    "            id_produto int foreign key references Produto (id),\n",
    "            quantidade int,\n",
    "            preco decimal\n",
    "            );\n",
    "            '''\n",
    "        with self.conexao:\n",
    "             self.conexao.execute (ddl)\n",
    "       \n",
    "                \n",
    "vendedorProduto = VendedorProduto (conexao)\n",
    "vendedorProduto.criar ()"
   ]
  },
  {
   "cell_type": "code",
   "execution_count": 114,
   "metadata": {
    "tags": []
   },
   "outputs": [],
   "source": [
    "    def ler (self):\n",
    "        cursor = self.conexao.cursor () \n",
    "        cursor.execute ('select *from Categoria;') \n",
    "        for linha in cursor: \n",
    "            print (linha)\n",
    "\n"
   ]
  },
  {
   "cell_type": "code",
   "execution_count": null,
   "metadata": {},
   "outputs": [],
   "source": []
  }
 ]
}