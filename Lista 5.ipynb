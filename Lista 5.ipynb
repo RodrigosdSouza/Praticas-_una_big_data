{
 "metadata": {
  "language_info": {
   "codemirror_mode": {
    "name": "ipython",
    "version": 3
   },
   "file_extension": ".py",
   "mimetype": "text/x-python",
   "name": "python",
   "nbconvert_exporter": "python",
   "pygments_lexer": "ipython3",
   "version": "3.7.9-final"
  },
  "orig_nbformat": 2,
  "kernelspec": {
   "name": "python_defaultSpec_1598914077714",
   "display_name": "Python 3.7.9 64-bit"
  }
 },
 "nbformat": 4,
 "nbformat_minor": 2,
 "cells": [
  {
   "cell_type": "code",
   "execution_count": 115,
   "metadata": {},
   "outputs": [],
   "source": [
    "# Inserir na Tabela Categoria\n"
   ]
  },
  {
   "cell_type": "code",
   "execution_count": 114,
   "metadata": {},
   "outputs": [],
   "source": [
    "# Importar biblioteca pyodbc:\n",
    "import pyodbc\n"
   ]
  },
  {
   "cell_type": "code",
   "execution_count": 127,
   "metadata": {},
   "outputs": [],
   "source": [
    "# Classe para conexão com o banco de dados:\n",
    "class ConexaoBD ():\n",
    "    def conectar (self):\n",
    "        return pyodbc.connect (driver = '{SQL Server}', server = 'DESKTOP-JBRAG2G\\SQLEXPRESS01', database ='empresa', trusted_connection = 'yes')"
   ]
  },
  {
   "cell_type": "code",
   "execution_count": 128,
   "metadata": {},
   "outputs": [],
   "source": [
    "# Instanciar um objeto da classe para conexão com o banco de dados:\n",
    "bd = ConexaoBD()\n",
    "# Pegar uma conexão com o banco de dados:\n",
    "conexao = bd.conectar()"
   ]
  },
  {
   "cell_type": "code",
   "execution_count": 129,
   "metadata": {},
   "outputs": [],
   "source": [
    "# Classe Categoria:\n",
    "class Categoria:\n",
    "    def __init__ (self,conexao):\n",
    "        self.conexao = conexao\n",
    "\n",
    "    def inserir (self):\n",
    "        dml = \"insert into Categoria (nome, descricao) values ('celulares', 'telefones celulares');\"\n",
    "        with self.conexao:\n",
    "            cursor = self.conexao.cursor ()\n",
    "            cursor.execute (dml)\n",
    "            # self.conexao.commit ()\n",
    "            sql = \"select * from Categoria;\"\n",
    "            cursor.execute (sql)\n",
    "            linha = cursor.fetchone ()\n",
    "            return linha\n"
   ]
  },
  {
   "cell_type": "code",
   "execution_count": 130,
   "metadata": {
    "tags": []
   },
   "outputs": [
    {
     "output_type": "stream",
     "name": "stdout",
     "text": "(50, 'celulares', 'telefones celulares')\n"
    }
   ],
   "source": [
    "# Instaciar objeto da classe Categoria:\n",
    "categoria = Categoria(conexao)\n",
    "\n",
    "# Inserir um registro no banco de dados:\n",
    "linha = categoria.inserir()\n",
    "\n",
    "# Apresentar na tela o registro inserido no banco de dados:\n",
    "print (linha)"
   ]
  },
  {
   "cell_type": "code",
   "execution_count": 134,
   "metadata": {},
   "outputs": [],
   "source": [
    "# Classe Categoria:\n",
    "class Categoria:\n",
    "    def __init__ (self,conexao):\n",
    "        self.conexao\n",
    "\n",
    "    def inserir (self):\n",
    "        dml = \"insert into Categoria (nome, descricao) values (?,?);\"\n",
    "        nome = input (\"informe o nome da categoria:\")\n",
    "        descricao = input (\"informe a descrição da categoria:\")\n",
    "        #parametros = tuple ((nome,descricao))\n",
    "\n",
    "        with self.conexao:\n",
    "            cursor - sefl.conexao.cursor()\n",
    "            cursor.execute (dml,nome,descricao)\n",
    "            #self.conexao.commit ()\n",
    "            sql = \"select * from Categoria;\"\n",
    "            cursor.execute (sql)\n",
    "            linhas = cursor.fetchall ()\n",
    "            return linhas\n"
   ]
  },
  {
   "cell_type": "code",
   "execution_count": 135,
   "metadata": {},
   "outputs": [
    {
     "output_type": "error",
     "ename": "AttributeError",
     "evalue": "'Categoria' object has no attribute 'conexao'",
     "traceback": [
      "\u001b[1;31m---------------------------------------------------------------------------\u001b[0m",
      "\u001b[1;31mAttributeError\u001b[0m                            Traceback (most recent call last)",
      "\u001b[1;32m<ipython-input-135-533ece45d0fc>\u001b[0m in \u001b[0;36m<module>\u001b[1;34m\u001b[0m\n\u001b[0;32m      1\u001b[0m \u001b[1;31m# Instaciar objeto da classe Categoria:\u001b[0m\u001b[1;33m\u001b[0m\u001b[1;33m\u001b[0m\u001b[1;33m\u001b[0m\u001b[0m\n\u001b[1;32m----> 2\u001b[1;33m \u001b[0mcategoria\u001b[0m \u001b[1;33m=\u001b[0m \u001b[0mCategoria\u001b[0m \u001b[1;33m(\u001b[0m\u001b[0mconexao\u001b[0m\u001b[1;33m)\u001b[0m\u001b[1;33m\u001b[0m\u001b[1;33m\u001b[0m\u001b[0m\n\u001b[0m\u001b[0;32m      3\u001b[0m \u001b[1;31m# Inserir um registro no banco de dados:\u001b[0m\u001b[1;33m\u001b[0m\u001b[1;33m\u001b[0m\u001b[1;33m\u001b[0m\u001b[0m\n\u001b[0;32m      4\u001b[0m \u001b[0mlinha\u001b[0m \u001b[1;33m=\u001b[0m \u001b[0mcategoria\u001b[0m\u001b[1;33m.\u001b[0m\u001b[0minserir\u001b[0m \u001b[1;33m(\u001b[0m\u001b[1;33m)\u001b[0m\u001b[1;33m\u001b[0m\u001b[1;33m\u001b[0m\u001b[0m\n\u001b[0;32m      5\u001b[0m \u001b[1;31m# Apresentar na tela o registro inserido no banco de dados:\u001b[0m\u001b[1;33m\u001b[0m\u001b[1;33m\u001b[0m\u001b[1;33m\u001b[0m\u001b[0m\n",
      "\u001b[1;32m<ipython-input-134-046b794d18da>\u001b[0m in \u001b[0;36m__init__\u001b[1;34m(self, conexao)\u001b[0m\n\u001b[0;32m      2\u001b[0m \u001b[1;32mclass\u001b[0m \u001b[0mCategoria\u001b[0m\u001b[1;33m:\u001b[0m\u001b[1;33m\u001b[0m\u001b[1;33m\u001b[0m\u001b[0m\n\u001b[0;32m      3\u001b[0m     \u001b[1;32mdef\u001b[0m \u001b[0m__init__\u001b[0m \u001b[1;33m(\u001b[0m\u001b[0mself\u001b[0m\u001b[1;33m,\u001b[0m\u001b[0mconexao\u001b[0m\u001b[1;33m)\u001b[0m\u001b[1;33m:\u001b[0m\u001b[1;33m\u001b[0m\u001b[1;33m\u001b[0m\u001b[0m\n\u001b[1;32m----> 4\u001b[1;33m         \u001b[0mself\u001b[0m\u001b[1;33m.\u001b[0m\u001b[0mconexao\u001b[0m\u001b[1;33m\u001b[0m\u001b[1;33m\u001b[0m\u001b[0m\n\u001b[0m\u001b[0;32m      5\u001b[0m \u001b[1;33m\u001b[0m\u001b[0m\n\u001b[0;32m      6\u001b[0m     \u001b[1;32mdef\u001b[0m \u001b[0minserir\u001b[0m \u001b[1;33m(\u001b[0m\u001b[0mself\u001b[0m\u001b[1;33m)\u001b[0m\u001b[1;33m:\u001b[0m\u001b[1;33m\u001b[0m\u001b[1;33m\u001b[0m\u001b[0m\n",
      "\u001b[1;31mAttributeError\u001b[0m: 'Categoria' object has no attribute 'conexao'"
     ]
    }
   ],
   "source": [
    "# Instaciar objeto da classe Categoria:\n",
    "categoria = Categoria (conexao)\n",
    "# Inserir um registro no banco de dados:\n",
    "linha = categoria.inserir ()\n",
    "# Apresentar na tela o registro inserido no banco de dados:\n",
    "print (linha)"
   ]
  },
  {
   "cell_type": "code",
   "execution_count": 136,
   "metadata": {},
   "outputs": [],
   "source": [
    "# Classe Categoria:\n",
    "class Categoria:\n",
    "    def __init__ (self, conexao):\n",
    "        self.conexao = conexao\n",
    "\n",
    "    def inserir (self):\n",
    "        dml = \"insert into Categoria (nome, descricao) values (?, ?);\"\n",
    "        parametros = [('livros', 'livros impressos'),('eletroeletrônicos', 'dispositivos eletroeletrônicos'),('alimentos', 'alimentos não perecíveis')]\n",
    "        with self.conexao:\n",
    "            cursor = self.conexao.cursor ()\n",
    "            cursor.executemany (dml, parametros)\n",
    "            # self.conexao.commit ()\n",
    "            sql = \"select * from Categoria;\"\n",
    "            cursor.execute (sql)\n",
    "            linha = cursor.fetchall ()\n",
    "        return linha"
   ]
  },
  {
   "cell_type": "code",
   "execution_count": 137,
   "metadata": {
    "tags": []
   },
   "outputs": [
    {
     "output_type": "stream",
     "name": "stdout",
     "text": "[(50, 'celulares', 'telefones celulares'), (54, 'celulares', 'telefones celulares'), (55, 'livros', 'livros impressos'), (56, 'eletroeletrônicos', 'dispositivos eletroeletrônicos'), (57, 'alimentos', 'alimentos não perecíveis')]\n"
    }
   ],
   "source": [
    "# Instaciar objeto da classe Categoria:\n",
    "categoria = Categoria (conexao)\n",
    "# Inserir um registro no banco de dados:\n",
    "linha = categoria.inserir ()\n",
    "# Apresentar na tela o registro inserido no banco de dados:\n",
    "print (linha)"
   ]
  },
  {
   "cell_type": "code",
   "execution_count": 138,
   "metadata": {},
   "outputs": [],
   "source": [
    "# Classe Categoria:\n",
    "class Categoria:\n",
    "    def __init__ (self, conexao):\n",
    "        self.conexao = conexao\n",
    "\n",
    "    def valores (self):\n",
    "        parametros = []\n",
    "        while True:\n",
    "            nome = input (\"Informe o nome da categoria: \")\n",
    "            descricao = input (\"Informe a descrição da categoria: \")\n",
    "            parametros.append ((nome, descricao))\n",
    "            print (parametros)\n",
    "            resp = input (\"Deseja informar outro registro? (s/n)\")\n",
    "            if (resp == \"n\"):\n",
    "                break\n",
    "            return parametros\n",
    "\n",
    "    def inserir (self):\n",
    "        dml = \"insert into Categoria (nome, descricao) values (?, ?);\"\n",
    "        parametros = self.valores ()\n",
    "        with self.conexao:\n",
    "            cursor = self.conexao.cursor ()\n",
    "            cursor.executemany (dml, parametros)\n",
    "            # self.conexao.commit ()\n",
    "            sql = \"select * from Categoria;\"\n",
    "            cursor.execute (sql)\n",
    "            linha = cursor.fetchall ()\n",
    "            return linha\n"
   ]
  },
  {
   "cell_type": "code",
   "execution_count": 139,
   "metadata": {
    "tags": []
   },
   "outputs": [
    {
     "output_type": "stream",
     "name": "stdout",
     "text": "[('livros', 'livros impressos')]\n[(50, 'celulares', 'telefones celulares'), (54, 'celulares', 'telefones celulares'), (55, 'livros', 'livros impressos'), (56, 'eletroeletrônicos', 'dispositivos eletroeletrônicos'), (57, 'alimentos', 'alimentos não perecíveis'), (58, 'livros', 'livros impressos')]\n"
    }
   ],
   "source": [
    "# Instaciar objeto da classe Categoria:\n",
    "categoria = Categoria (conexao)\n",
    "# Inserir um registro no banco de dados:\n",
    "linha = categoria.inserir ()\n",
    "# Apresentar na tela o registro inserido no banco de dados:\n",
    "print (linha)"
   ]
  },
  {
   "cell_type": "code",
   "execution_count": 140,
   "metadata": {},
   "outputs": [],
   "source": [
    "# Classe Categoria:\n",
    "class Categoria:\n",
    "    def __init__ (self, conexao):\n",
    "        self.conexao = conexao\n",
    "\n",
    "    def inserir (self):\n",
    "        dml = \"insert into Categoria (nome, descricao) values ('cozinha', 'utensílios de cozinha');\"\n",
    "        with self.conexao:\n",
    "            cursor = self.conexao.cursor ()\n",
    "            cursor.execute (dml)\n",
    "            # self.conexao.commit ()\n",
    "            sql = \"select cast (scope_identity () as int);\"\n",
    "            cursor.execute (sql)\n",
    "            id = cursor.fetchone ()[0]\n",
    "\n",
    "        return id"
   ]
  },
  {
   "cell_type": "code",
   "execution_count": 141,
   "metadata": {
    "tags": []
   },
   "outputs": [
    {
     "output_type": "stream",
     "name": "stdout",
     "text": "59\n"
    }
   ],
   "source": [
    "# Instaciar objeto da classe Categoria:\n",
    "\n",
    "categoria = Categoria (conexao)\n",
    "\n",
    "# Inserir um registro no banco de dados:\n",
    "\n",
    "linha = categoria.inserir ()\n",
    "\n",
    "# Apresentar na tela o registro inserido no banco de dados:\n",
    "\n",
    "print (linha)"
   ]
  },
  {
   "cell_type": "code",
   "execution_count": 142,
   "metadata": {},
   "outputs": [],
   "source": [
    "# Classe Categoria:\n",
    "class Categoria:\n",
    "    def __init__ (self, conexao):\n",
    "        self.conexao = conexao\n",
    "\n",
    "    def insert (self):\n",
    "        dml = \"insert into Categoria (nome, descricao) values (?, ?);\"\n",
    "        nome = input (\"Informe o nome da categoria: \")\n",
    "        descricao = input (\"Informe a descrição da categoria: \")\n",
    "\n",
    "        with self.conexao:\n",
    "            cursor = self.conexao.cursor ()\n",
    "            cursor.execute (dml, nome, descricao)\n",
    "            # self.conexao.commit ()\n",
    "            sql = \"select * from Categoria;\"\n",
    "            cursor.execute (sql)\n",
    "            linhas = cursor.fetchall ()\n",
    "            return linhas\n",
    "\n",
    "    def update (self):\n",
    "        dml = \"update Categoria set descricao = ? where id = ?\"\n",
    "        category = input (\"Informe o código da categoria que quer editar: \")\n",
    "        description = input (\"Informe a nova descrição da categoria: \")\n",
    "\n",
    "        with self.conexao:\n",
    "            cursor = self.conexao.cursor ()\n",
    "            cursor.execute(dml, description, category)\n",
    "            sql = \"select * from Categoria;\"\n",
    "            cursor.execute (sql)\n",
    "            linhas = cursor.fetchall ()\n",
    "            return linhas\n",
    "\n",
    "    def delete (self):\n",
    "        dml = \"delete from Categoria where id = ?\"\n",
    "        category = input (\"Informe o código da categoria que quer deletar: \")\n",
    "\n",
    "        with self.conexao:\n",
    "            cursor = self.conexao.cursor ()\n",
    "            cursor.execute(dml, category)\n",
    "            sql = \"select * from Categoria;\"\n",
    "            cursor.execute (sql)\n",
    "            linhas = cursor.fetchall ()\n",
    "            return linhas"
   ]
  },
  {
   "cell_type": "code",
   "execution_count": 143,
   "metadata": {
    "tags": []
   },
   "outputs": [
    {
     "output_type": "stream",
     "name": "stdout",
     "text": "[(50, 'celulares', 'telefones celulares'), (54, 'celulares', 'telefones celulares'), (55, 'livros', 'livros impressos'), (56, 'eletroeletrônicos', 'dispositivos eletroeletrônicos'), (57, 'alimentos', 'alimentos não perecíveis'), (58, 'livros', 'livros impressos'), (59, 'cozinha', 'utensílios de cozinha'), (60, 'Informatica', 'Notebook')]\n"
    }
   ],
   "source": [
    "categoria = Categoria (conexao)\n",
    "\n",
    "linha = categoria.insert ()\n",
    "\n",
    "print (linha)"
   ]
  },
  {
   "cell_type": "code",
   "execution_count": 145,
   "metadata": {
    "tags": []
   },
   "outputs": [
    {
     "output_type": "stream",
     "name": "stdout",
     "text": "[(50, 'celulares', 'telefones celulares'), (54, 'celulares', 'telefones celulares'), (55, 'livros', 'livros impressos'), (56, 'eletroeletrônicos', 'dispositivos eletroeletrônicos'), (57, 'alimentos', 'alimentos não perecíveis'), (58, 'livros', 'livros impressos'), (59, 'cozinha', 'utensílios de cozinha'), (60, 'Informatica', 'Notebook')]\n"
    }
   ],
   "source": [
    "categoria = Categoria (conexao)\n",
    "\n",
    "linha = categoria.update ()\n",
    "\n",
    "print (linha)"
   ]
  },
  {
   "cell_type": "code",
   "execution_count": null,
   "metadata": {},
   "outputs": [],
   "source": [
    "\n",
    "categoria = Categoria (conexao)\n",
    "\n",
    "linha = categoria.delete ()\n",
    "\n",
    "print (linha)"
   ]
  }
 ]
}